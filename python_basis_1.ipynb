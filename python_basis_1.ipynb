{
  "nbformat": 4,
  "nbformat_minor": 0,
  "metadata": {
    "colab": {
      "name": "python_basis.ipynb",
      "provenance": [],
      "toc_visible": true,
      "authorship_tag": "ABX9TyMW5DfuaWtsLsg3IGukag4y",
      "include_colab_link": true
    },
    "kernelspec": {
      "name": "python3",
      "display_name": "Python 3"
    }
  },
  "cells": [
    {
      "cell_type": "markdown",
      "metadata": {
        "id": "view-in-github",
        "colab_type": "text"
      },
      "source": [
        "<a href=\"https://colab.research.google.com/github/ryamaguchi0111/python_baisis/blob/main/python_basis_1.ipynb\" target=\"_parent\"><img src=\"https://colab.research.google.com/assets/colab-badge.svg\" alt=\"Open In Colab\"/></a>"
      ]
    },
    {
      "cell_type": "markdown",
      "metadata": {
        "id": "ZCLs1p6rTnrq"
      },
      "source": [
        "# Python の使い方を学びましょう  \n",
        "- 1 計算してみよう\n",
        "- 2 変数を使ってみよう\n",
        "- 3 文字列を扱ってみよう\n",
        "- 4 リストを使ってみよう\n",
        "- 5 if文を扱ってみよう\n",
        "- 6 for文を扱ってみよう\n",
        "- 7 リスト・タプル・辞書・集合を扱ってみよう\n",
        "- 8 関数を扱ってみよう\n",
        "- 9 クラスを扱ってみよう"
      ]
    },
    {
      "cell_type": "markdown",
      "metadata": {
        "id": "y4bLW-FKUzvl"
      },
      "source": [
        "# 1 計算してみよう\n",
        "まずはPythonを電卓の代りに使ってみよう  \n",
        "Pythonの四則演算子 \n",
        "\n",
        "|  | 演算子|\n",
        "|:--:|:--:|\n",
        "| 足し算 | + |\n",
        "| 引き算 | - |\n",
        "| 掛け算 | * |\n",
        "| 割り算(小数) | / |\n",
        "| 割り算(整数) | // |\n",
        "| 余り   | % |\n",
        "\n",
        "- 複合演算子"
      ]
    },
    {
      "cell_type": "code",
      "metadata": {
        "id": "kGL2b7eI5_AM",
        "outputId": "1b00a681-6b05-4e6f-f8f4-87d3eec48b70",
        "colab": {
          "base_uri": "https://localhost:8080/",
          "height": 119
        }
      },
      "source": [
        "print(7+4)\n",
        "print(7-4)\n",
        "print(7*4)\n",
        "print(7/4)\n",
        "print(7//4)\n",
        "print(7%4)\n"
      ],
      "execution_count": null,
      "outputs": [
        {
          "output_type": "stream",
          "text": [
            "11\n",
            "3\n",
            "28\n",
            "1.75\n",
            "1\n",
            "3\n"
          ],
          "name": "stdout"
        }
      ]
    },
    {
      "cell_type": "markdown",
      "metadata": {
        "id": "e1mM_Qh0NKbs"
      },
      "source": [
        "# 2 変数を使ってみよう\n",
        "**変数** : データの入った入れ物  \n",
        "=> データの分類やデータの種類や目的を分かりやすく示すことができます。  \n",
        "\n",
        "**変数名**：変数を表す名前\n",
        "\n",
        "\n",
        "**代入** : 変数の中にデータを入れること。 イコールを使うことで代入することができます。\n",
        "\n",
        "<br>\n",
        "\n",
        "***\n",
        "\n",
        "<br>\n",
        "\n",
        "## 変数の定義\n",
        "`[変数名名 = [データ]`\n",
        "\n",
        "## 変数を使って計算"
      ]
    },
    {
      "cell_type": "code",
      "metadata": {
        "id": "yjzNOaQuTNF6",
        "outputId": "d8304cf0-90c7-48c3-ae87-cc76908ce542",
        "colab": {
          "base_uri": "https://localhost:8080/",
          "height": 34
        }
      },
      "source": [
        "# 半径２の円の面積を計算\n",
        "pi = 3.141592 # 円周率\n",
        "r = 2 # 半径\n",
        "y = 2 * pi * r # 円の面積の計算 y=2πr\n",
        "print(f'円の面積 : {y}')"
      ],
      "execution_count": 2,
      "outputs": [
        {
          "output_type": "stream",
          "text": [
            "円の面積 : 12.566368\n"
          ],
          "name": "stdout"
        }
      ]
    },
    {
      "cell_type": "markdown",
      "metadata": {
        "id": "tmtrWdeJU6Dg"
      },
      "source": [
        "# 3 文字列を扱ってみよう\n",
        "**文字列** : 文字の集まり  \n",
        "Pythonで文字列を扱うには `'` または `\"` で囲む\n",
        "## 文字列の定義\n",
        "`'文字列'` : シングルクォーテーションで囲む  \n",
        "`\"文字列\"` : ダブルクォーテーションで囲む\n"
      ]
    },
    {
      "cell_type": "code",
      "metadata": {
        "id": "eMFBJi4EUtw9",
        "outputId": "c11846ad-0ab2-4b7f-9e55-b9b4d632665b",
        "colab": {
          "base_uri": "https://localhost:8080/",
          "height": 34
        }
      },
      "source": [
        "'Hello World'"
      ],
      "execution_count": null,
      "outputs": [
        {
          "output_type": "execute_result",
          "data": {
            "text/plain": [
              "'Hello World'"
            ]
          },
          "metadata": {
            "tags": []
          },
          "execution_count": 8
        }
      ]
    },
    {
      "cell_type": "code",
      "metadata": {
        "id": "rWXfj6V7Ub5W",
        "outputId": "b0636e5b-b74d-4b0f-b2a3-8a328a501759",
        "colab": {
          "base_uri": "https://localhost:8080/",
          "height": 34
        }
      },
      "source": [
        "\"Hello World\""
      ],
      "execution_count": null,
      "outputs": [
        {
          "output_type": "execute_result",
          "data": {
            "text/plain": [
              "'Hello World'"
            ]
          },
          "metadata": {
            "tags": []
          },
          "execution_count": 9
        }
      ]
    },
    {
      "cell_type": "markdown",
      "metadata": {
        "id": "yq1eRSnrUb_W"
      },
      "source": [
        "## 文字列の演算\n",
        "文字列は足し算によって連結することができる"
      ]
    },
    {
      "cell_type": "code",
      "metadata": {
        "id": "n17ZpQ_TZ5nE",
        "outputId": "f902c56d-2c54-46a9-8921-773227591912",
        "colab": {
          "base_uri": "https://localhost:8080/",
          "height": 34
        }
      },
      "source": [
        "first_name = 'Ryohei'\n",
        "last_name = 'Yamaguchi'\n",
        "full_name = first_name + last_name\n",
        "full_name"
      ],
      "execution_count": null,
      "outputs": [
        {
          "output_type": "execute_result",
          "data": {
            "text/plain": [
              "'RyoheiYamaguchi'"
            ]
          },
          "metadata": {
            "tags": []
          },
          "execution_count": 13
        }
      ]
    },
    {
      "cell_type": "markdown",
      "metadata": {
        "id": "8EgxBe0iS5k5"
      },
      "source": [
        "文字列は掛け算によってその数だけ増やすことができる  \n",
        "`AI` という変数に`'AI'`という文字列を代入して、  \n",
        "`AI * 30`で`'AI'`という文字を30個繋げてみる"
      ]
    },
    {
      "cell_type": "code",
      "metadata": {
        "id": "uLFXKCuCUtX_",
        "outputId": "e1e38f0e-4f67-4f6a-a822-fb22ca601416",
        "colab": {
          "base_uri": "https://localhost:8080/",
          "height": 34
        }
      },
      "source": [
        "AI = 'AI'\n",
        "AI_30 = AI * 30\n",
        "AI_30"
      ],
      "execution_count": null,
      "outputs": [
        {
          "output_type": "execute_result",
          "data": {
            "text/plain": [
              "'AIAIAIAIAIAIAIAIAIAIAIAIAIAIAIAIAIAIAIAIAIAIAIAIAIAIAIAIAIAI'"
            ]
          },
          "metadata": {
            "tags": []
          },
          "execution_count": 14
        }
      ]
    },
    {
      "cell_type": "markdown",
      "metadata": {
        "id": "PLBvdATcblur"
      },
      "source": [
        "# 4 リストを使ってみよう"
      ]
    },
    {
      "cell_type": "markdown",
      "metadata": {
        "id": "FoW6f0JIdkSe"
      },
      "source": [
        "**リスト** : 複数のデータを**並べて**、**管理**し効率的に扱う  \n",
        "Pythonのリストには数値や文字列だけでなくPythonで扱うデータならなんでも入れることができる"
      ]
    },
    {
      "cell_type": "markdown",
      "metadata": {
        "id": "7oZvMNv5xK6C"
      },
      "source": [
        "## リストの定義\n",
        "`[要素0, 要素1, 要素2, 要素3]`"
      ]
    },
    {
      "cell_type": "code",
      "metadata": {
        "id": "KPjclEhX0oUU",
        "outputId": "b172d2ea-b1f2-4f93-f180-d33ab2c83273",
        "colab": {
          "base_uri": "https://localhost:8080/",
          "height": 284
        }
      },
      "source": [
        "# 温度のリスト\n",
        "temps = [15.1, 15.4, 15.2, 15.6, 16.8, 17.9, 17.1]\n",
        "\n",
        "# 可視化\n",
        "%matplotlib inline\n",
        "import matplotlib.pyplot as plt\n",
        "plt.plot(temps)"
      ],
      "execution_count": 14,
      "outputs": [
        {
          "output_type": "execute_result",
          "data": {
            "text/plain": [
              "[<matplotlib.lines.Line2D at 0x7f2f27212ef0>]"
            ]
          },
          "metadata": {
            "tags": []
          },
          "execution_count": 14
        },
        {
          "output_type": "display_data",
          "data": {
            "image/png": "[encoded data removed]",
            "text/plain": [
              "<Figure size 432x288 with 1 Axes>"
            ]
          },
          "metadata": {
            "tags": [],
            "needs_background": "light"
          }
        }
      ]
    },
    {
      "cell_type": "markdown",
      "metadata": {
        "id": "oVkf1WKSQ8E0"
      },
      "source": [
        "## インデックスの指定\n",
        "リストにはインデックスと呼ばれる番号がついています。  \n",
        "番号は０から始まります。\n",
        "\n",
        "|    |    |    |    |    |    |    |    |\n",
        "|:---:|:---: |:---: |:---: |:---: |:---: |:---: |:---: |\n",
        "|list|15.1|15.4|15.2|15.6|16.8|17.9|17.1|\n",
        "|index|0|1|2|3|4|5|6|\n"
      ]
    },
    {
      "cell_type": "markdown",
      "metadata": {
        "id": "X9pp-3msi3RF"
      },
      "source": [
        "### リストの要素を取得する\n",
        "リストに入っている0番めの要素を取り出す場合は index 0 を指定します。"
      ]
    },
    {
      "cell_type": "code",
      "metadata": {
        "id": "boRt8woii74U"
      },
      "source": [
        "temps_0 = temps[0]"
      ],
      "execution_count": 17,
      "outputs": []
    },
    {
      "cell_type": "markdown",
      "metadata": {
        "id": "voEve9Z7kmxw"
      },
      "source": [
        "### リストの連結\n",
        "リストは足し算することができます。  "
      ]
    },
    {
      "cell_type": "code",
      "metadata": {
        "id": "Uj00-KZ3klOn"
      },
      "source": [
        "temps_new = [13.6, 13.5, 12.6, 14.5, 14.8]\n",
        "temps_2 = temps_new + temps"
      ],
      "execution_count": 20,
      "outputs": []
    },
    {
      "cell_type": "code",
      "metadata": {
        "id": "Qof3aVlYjk1C",
        "outputId": "51168ee6-c29b-4d68-f3bf-ed0f1d825d14",
        "colab": {
          "base_uri": "https://localhost:8080/",
          "height": 282
        }
      },
      "source": [
        "plt.plot(temps_2)\n"
      ],
      "execution_count": 21,
      "outputs": [
        {
          "output_type": "execute_result",
          "data": {
            "text/plain": [
              "[<matplotlib.lines.Line2D at 0x7f2f26e482b0>]"
            ]
          },
          "metadata": {
            "tags": []
          },
          "execution_count": 21
        },
        {
          "output_type": "display_data",
          "data": {
            "image/png": "[encoded data removed]",
            "text/plain": [
              "<Figure size 432x288 with 1 Axes>"
            ]
          },
          "metadata": {
            "tags": [],
            "needs_background": "light"
          }
        }
      ]
    },
    {
      "cell_type": "markdown",
      "metadata": {
        "id": "lHsZajQPlHAV"
      },
      "source": [
        "### 要素の置き換え・削除"
      ]
    },
    {
      "cell_type": "code",
      "metadata": {
        "id": "x50bj45zlikP",
        "outputId": "42f53e7c-d488-49f1-880c-edec81ffbe7b",
        "colab": {
          "base_uri": "https://localhost:8080/",
          "height": 34
        }
      },
      "source": [
        "# フルーツの名前のリストの生成\n",
        "fruits = ['りんご', 'みかん', 'ぶどう', 'もも', 'なし', ]\n",
        "fruits"
      ],
      "execution_count": 22,
      "outputs": [
        {
          "output_type": "execute_result",
          "data": {
            "text/plain": [
              "['りんご', 'みかん', 'ぶどう', 'もも', 'なし']"
            ]
          },
          "metadata": {
            "tags": []
          },
          "execution_count": 22
        }
      ]
    },
    {
      "cell_type": "code",
      "metadata": {
        "id": "i10n8ysKmQWz"
      },
      "source": [
        "# 3番目の要素を置き換える\n",
        "fruits[3] = 'マスカット'\n",
        "# index を指定して再代入することで要素を置き換えることができます。"
      ],
      "execution_count": 23,
      "outputs": []
    },
    {
      "cell_type": "code",
      "metadata": {
        "id": "eDPLgh0qmv4Z",
        "outputId": "cd0f683e-27b1-43fe-e948-c9a12a3277ba",
        "colab": {
          "base_uri": "https://localhost:8080/",
          "height": 34
        }
      },
      "source": [
        "# 0番目の要素を削除する\n",
        "# del文を使うことで要素を削除することができます。\n",
        "\n",
        "del fruits[0]\n",
        "fruits"
      ],
      "execution_count": 24,
      "outputs": [
        {
          "output_type": "execute_result",
          "data": {
            "text/plain": [
              "['みかん', 'ぶどう', 'マスカット', 'なし']"
            ]
          },
          "metadata": {
            "tags": []
          },
          "execution_count": 24
        }
      ]
    },
    {
      "cell_type": "markdown",
      "metadata": {
        "id": "37TVZB_hnT7t"
      },
      "source": [
        "### スライスを使用して複数の要素を取り出す\n",
        "リストにはスライスすることで、連続した複数の要素を指定することができます。\n",
        "\n",
        "`リスト名[最初のインデックス:最後のインデックス]`"
      ]
    },
    {
      "cell_type": "code",
      "metadata": {
        "id": "FKFSJCQ8oFDl",
        "outputId": "027d1fa1-9b9b-4dd4-8379-de4118dcbf9c",
        "colab": {
          "base_uri": "https://localhost:8080/",
          "height": 34
        }
      },
      "source": [
        "fruits[1:3]"
      ],
      "execution_count": 28,
      "outputs": [
        {
          "output_type": "execute_result",
          "data": {
            "text/plain": [
              "['ぶどう', 'マスカット']"
            ]
          },
          "metadata": {
            "tags": []
          },
          "execution_count": 28
        }
      ]
    },
    {
      "cell_type": "code",
      "metadata": {
        "id": "CNchhTCIoXOd",
        "outputId": "76b9987c-ef65-4ead-dfce-02265383b6e7",
        "colab": {
          "base_uri": "https://localhost:8080/",
          "height": 34
        }
      },
      "source": [
        "fruits[:3]"
      ],
      "execution_count": 27,
      "outputs": [
        {
          "output_type": "execute_result",
          "data": {
            "text/plain": [
              "['みかん', 'ぶどう', 'マスカット']"
            ]
          },
          "metadata": {
            "tags": []
          },
          "execution_count": 27
        }
      ]
    },
    {
      "cell_type": "code",
      "metadata": {
        "id": "UqzodKhoobpD",
        "outputId": "2e875723-0c87-4a52-9efe-91f418b8a9e3",
        "colab": {
          "base_uri": "https://localhost:8080/",
          "height": 34
        }
      },
      "source": [
        "fruits[1:]"
      ],
      "execution_count": 29,
      "outputs": [
        {
          "output_type": "execute_result",
          "data": {
            "text/plain": [
              "['ぶどう', 'マスカット', 'なし']"
            ]
          },
          "metadata": {
            "tags": []
          },
          "execution_count": 29
        }
      ]
    },
    {
      "cell_type": "markdown",
      "metadata": {
        "id": "gep4ZgzQoyNN"
      },
      "source": [
        "# 5 for文\n",
        "**シーケンス**：リストのように複数の要素を持つデータ型  \n",
        "\n",
        "for文は **処理を繰り返す** ものです。  \n",
        "シーケンスの中を処理するときに使います。\n",
        "\n",
        "\n",
        "```\n",
        "for 繰り返し変数 in シーケンス:\n",
        "    [   ループ内の実行するブロック    ]\n",
        "```\n"
      ]
    },
    {
      "cell_type": "code",
      "metadata": {
        "id": "KnlD9AKJonFV",
        "outputId": "40cffa02-e1eb-4429-e24f-82f87cd444df",
        "colab": {
          "base_uri": "https://localhost:8080/",
          "height": 102
        }
      },
      "source": [
        "# for文の使用例 1\n",
        "fruits = ['りんご', 'みかん', 'ぶどう', 'もも', 'なし', ]\n",
        "for fruit in fruits:\n",
        "    print(fruit)\n"
      ],
      "execution_count": 30,
      "outputs": [
        {
          "output_type": "stream",
          "text": [
            "りんご\n",
            "みかん\n",
            "ぶどう\n",
            "もも\n",
            "なし\n"
          ],
          "name": "stdout"
        }
      ]
    },
    {
      "cell_type": "markdown",
      "metadata": {
        "id": "R86K1XfUqv_r"
      },
      "source": [
        "1~10 を次々に足し算していくfor文"
      ]
    },
    {
      "cell_type": "code",
      "metadata": {
        "id": "t7pD_EDVgJmH",
        "outputId": "34d26a10-a018-49d5-cfc7-e4808db6eb90",
        "colab": {
          "base_uri": "https://localhost:8080/",
          "height": 187
        }
      },
      "source": [
        "nums = [1,2,3,4,5,6,7,8,9,10]\n",
        "num_sum = 0\n",
        "for i in nums:\n",
        "    num_sum = num_sum + i\n",
        "\n",
        "    print(num_sum)\n",
        "    "
      ],
      "execution_count": 35,
      "outputs": [
        {
          "output_type": "stream",
          "text": [
            "1\n",
            "3\n",
            "6\n",
            "10\n",
            "15\n",
            "21\n",
            "28\n",
            "36\n",
            "45\n",
            "55\n"
          ],
          "name": "stdout"
        }
      ]
    },
    {
      "cell_type": "markdown",
      "metadata": {
        "id": "wga9HAIUrrYv"
      },
      "source": [
        "# if文\n",
        "「もし～ならば」の条件分岐を実現する文法です。\n",
        "\n",
        "```\n",
        "if 条件式:\n",
        "    [  処理内容  ]\n",
        "elif 条件式:\n",
        "    [  処理内容  ]\n",
        "else:\n",
        "    [  処理内容  ]\n",
        "```\n",
        "\n",
        "**True** or **False** で条件を分岐します。  \n",
        "\n",
        "条件式には比較演算子や論理演算子を使います。\n",
        "\n",
        "||||\n",
        "|---|---|---|\n",
        "|比較演算子|<|小さい|\n",
        "||>|大きい|\n",
        "||<=|以上|\n",
        "||>=|以下|\n",
        "||==|等しい|\n",
        "||!=|等しくない|\n",
        "|論理演算し|and|両者を満たす|\n",
        "||or|どちらか片方を満たす|\n",
        "||not|満たさない|\n"
      ]
    },
    {
      "cell_type": "code",
      "metadata": {
        "id": "ZtW2w6OCu1tT",
        "outputId": "38b5ec36-2498-4391-9544-f145b3f5c522",
        "colab": {
          "base_uri": "https://localhost:8080/",
          "height": 51
        }
      },
      "source": [
        "# 比較演算子の紹介\n",
        "\n",
        "a = 3\n",
        "b = 4\n",
        "\n",
        "c = a < 3 # 比較（小さいかどうか）\n",
        "print(c)\n",
        "\n",
        "d = 3 < 4 and 4 < 5 # 論理和\n",
        "print(d)"
      ],
      "execution_count": 39,
      "outputs": [
        {
          "output_type": "stream",
          "text": [
            "False\n",
            "True\n"
          ],
          "name": "stdout"
        }
      ]
    },
    {
      "cell_type": "code",
      "metadata": {
        "id": "2QVg78qPrMLl",
        "outputId": "0947eee6-1d5e-4cf5-fb7a-95d4d93ac630",
        "colab": {
          "base_uri": "https://localhost:8080/",
          "height": 34
        }
      },
      "source": [
        "# for文 例 1　あいさつ\n",
        "\n",
        "# 朝だったら「おはよう」\n",
        "# 昼だったら「こんにちは」\n",
        "# 夕方だったら「こんばんは」\n",
        "# それ以外なら「おやすみ」\n",
        "\n",
        "time = 7\n",
        "\n",
        "if time < 12:\n",
        "    print('おはよう')\n",
        "elif time < 17:\n",
        "    print('こんにちは')\n",
        "elif time < 21:\n",
        "    print('こんばんは')\n",
        "else:\n",
        "    print('おやすみ')\n",
        "\n"
      ],
      "execution_count": 36,
      "outputs": [
        {
          "output_type": "stream",
          "text": [
            "おはよう\n"
          ],
          "name": "stdout"
        }
      ]
    },
    {
      "cell_type": "code",
      "metadata": {
        "id": "Q0du_7eRuv4o"
      },
      "source": [
        ""
      ],
      "execution_count": null,
      "outputs": []
    }
  ]
}