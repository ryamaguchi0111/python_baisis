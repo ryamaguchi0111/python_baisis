{
  "nbformat": 4,
  "nbformat_minor": 0,
  "metadata": {
    "colab": {
      "name": "python_basis.ipynb",
      "provenance": [],
      "toc_visible": true,
      "authorship_tag": "ABX9TyOWi0hAU/rOZB92ckffVY4+",
      "include_colab_link": true
    },
    "kernelspec": {
      "name": "python3",
      "display_name": "Python 3"
    }
  },
  "cells": [
    {
      "cell_type": "markdown",
      "metadata": {
        "id": "view-in-github",
        "colab_type": "text"
      },
      "source": [
        "<a href=\"https://colab.research.google.com/github/ryamaguchi0111/python_baisis/blob/main/python_basis_1.ipynb\" target=\"_parent\"><img src=\"https://colab.research.google.com/assets/colab-badge.svg\" alt=\"Open In Colab\"/></a>"
      ]
    },
    {
      "cell_type": "markdown",
      "metadata": {
        "id": "ZCLs1p6rTnrq"
      },
      "source": [
        "# Python の使い方を学びましょう  \n",
        "- 1 計算してみよう\n",
        "- 2 変数を使ってみよう\n",
        "- 3 文字列を扱ってみよう\n",
        "- 4 リストを使ってみよう\n",
        "- 5 if文を扱ってみよう\n",
        "- 6 for文を扱ってみよう\n",
        "- 7 リスト・タプル・辞書・集合を扱ってみよう\n",
        "- 8 関数を扱ってみよう\n",
        "- 9 クラスを扱ってみよう"
      ]
    },
    {
      "cell_type": "markdown",
      "metadata": {
        "id": "y4bLW-FKUzvl"
      },
      "source": [
        "# 1 計算してみよう\n",
        "まずはPythonを電卓の代りに使ってみよう  \n",
        "Pythonの四則演算子 \n",
        "\n",
        "|  | 演算子|\n",
        "|:--:|:--:|\n",
        "| 足し算 | + |\n",
        "| 引き算 | - |\n",
        "| 掛け算 | * |\n",
        "| 割り算(小数) | / |\n",
        "| 割り算(整数) | // |\n",
        "| 余り   | % |\n",
        "\n",
        "- 複合演算子"
      ]
    },
    {
      "cell_type": "code",
      "metadata": {
        "id": "kGL2b7eI5_AM",
        "outputId": "1b00a681-6b05-4e6f-f8f4-87d3eec48b70",
        "colab": {
          "base_uri": "https://localhost:8080/",
          "height": 119
        }
      },
      "source": [
        "print(7+4)\n",
        "print(7-4)\n",
        "print(7*4)\n",
        "print(7/4)\n",
        "print(7//4)\n",
        "print(7%4)\n"
      ],
      "execution_count": null,
      "outputs": [
        {
          "output_type": "stream",
          "text": [
            "11\n",
            "3\n",
            "28\n",
            "1.75\n",
            "1\n",
            "3\n"
          ],
          "name": "stdout"
        }
      ]
    },
    {
      "cell_type": "markdown",
      "metadata": {
        "id": "e1mM_Qh0NKbs"
      },
      "source": [
        "# 2 変数を使ってみよう\n",
        "**変数** : データの入った入れ物  \n",
        "=> データの分類やデータの種類や目的を分かりやすく示すことができます。  \n",
        "\n",
        "**変数名**：変数を表す名前\n",
        "\n",
        "\n",
        "**代入** : 変数の中にデータを入れること。 イコールを使うことで代入することができます。\n",
        "\n",
        "<br>\n",
        "\n",
        "***\n",
        "\n",
        "<br>\n",
        "\n",
        "## 変数の定義\n",
        "`[変数名名 = [データ]`\n",
        "\n",
        "## 変数を使って計算"
      ]
    },
    {
      "cell_type": "code",
      "metadata": {
        "id": "yjzNOaQuTNF6",
        "outputId": "d8304cf0-90c7-48c3-ae87-cc76908ce542",
        "colab": {
          "base_uri": "https://localhost:8080/",
          "height": 34
        }
      },
      "source": [
        "# 半径２の円の面積を計算\n",
        "pi = 3.141592 # 円周率\n",
        "r = 2 # 半径\n",
        "y = 2 * pi * r # 円の面積の計算 y=2πr\n",
        "print(f'円の面積 : {y}')"
      ],
      "execution_count": null,
      "outputs": [
        {
          "output_type": "stream",
          "text": [
            "円の面積 : 12.566368\n"
          ],
          "name": "stdout"
        }
      ]
    },
    {
      "cell_type": "markdown",
      "metadata": {
        "id": "tmtrWdeJU6Dg"
      },
      "source": [
        "# 3 文字列を扱ってみよう\n",
        "**文字列** : 文字の集まり  \n",
        "Pythonで文字列を扱うには `'` または `\"` で囲む\n",
        "## 文字列の定義\n",
        "`'文字列'` : シングルクォーテーションで囲む  \n",
        "`\"文字列\"` : ダブルクォーテーションで囲む\n"
      ]
    },
    {
      "cell_type": "code",
      "metadata": {
        "id": "eMFBJi4EUtw9",
        "outputId": "c11846ad-0ab2-4b7f-9e55-b9b4d632665b",
        "colab": {
          "base_uri": "https://localhost:8080/",
          "height": 34
        }
      },
      "source": [
        "'Hello World'"
      ],
      "execution_count": null,
      "outputs": [
        {
          "output_type": "execute_result",
          "data": {
            "text/plain": [
              "'Hello World'"
            ]
          },
          "metadata": {
            "tags": []
          },
          "execution_count": 8
        }
      ]
    },
    {
      "cell_type": "code",
      "metadata": {
        "id": "rWXfj6V7Ub5W",
        "outputId": "b0636e5b-b74d-4b0f-b2a3-8a328a501759",
        "colab": {
          "base_uri": "https://localhost:8080/",
          "height": 34
        }
      },
      "source": [
        "\"Hello World\""
      ],
      "execution_count": null,
      "outputs": [
        {
          "output_type": "execute_result",
          "data": {
            "text/plain": [
              "'Hello World'"
            ]
          },
          "metadata": {
            "tags": []
          },
          "execution_count": 9
        }
      ]
    },
    {
      "cell_type": "markdown",
      "metadata": {
        "id": "yq1eRSnrUb_W"
      },
      "source": [
        "## 文字列の演算\n",
        "文字列は足し算によって連結することができる"
      ]
    },
    {
      "cell_type": "code",
      "metadata": {
        "id": "n17ZpQ_TZ5nE",
        "outputId": "f902c56d-2c54-46a9-8921-773227591912",
        "colab": {
          "base_uri": "https://localhost:8080/",
          "height": 34
        }
      },
      "source": [
        "first_name = 'Ryohei'\n",
        "last_name = 'Yamaguchi'\n",
        "full_name = first_name + last_name\n",
        "full_name"
      ],
      "execution_count": null,
      "outputs": [
        {
          "output_type": "execute_result",
          "data": {
            "text/plain": [
              "'RyoheiYamaguchi'"
            ]
          },
          "metadata": {
            "tags": []
          },
          "execution_count": 13
        }
      ]
    },
    {
      "cell_type": "markdown",
      "metadata": {
        "id": "8EgxBe0iS5k5"
      },
      "source": [
        "文字列は掛け算によってその数だけ増やすことができる  \n",
        "`AI` という変数に`'AI'`という文字列を代入して、  \n",
        "`AI * 30`で`'AI'`という文字を30個繋げてみる"
      ]
    },
    {
      "cell_type": "code",
      "metadata": {
        "id": "uLFXKCuCUtX_",
        "outputId": "e1e38f0e-4f67-4f6a-a822-fb22ca601416",
        "colab": {
          "base_uri": "https://localhost:8080/",
          "height": 34
        }
      },
      "source": [
        "AI = 'AI'\n",
        "AI_30 = AI * 30\n",
        "AI_30"
      ],
      "execution_count": null,
      "outputs": [
        {
          "output_type": "execute_result",
          "data": {
            "text/plain": [
              "'AIAIAIAIAIAIAIAIAIAIAIAIAIAIAIAIAIAIAIAIAIAIAIAIAIAIAIAIAIAI'"
            ]
          },
          "metadata": {
            "tags": []
          },
          "execution_count": 14
        }
      ]
    },
    {
      "cell_type": "markdown",
      "metadata": {
        "id": "PLBvdATcblur"
      },
      "source": [
        "# 4 リストを使ってみよう"
      ]
    },
    {
      "cell_type": "markdown",
      "metadata": {
        "id": "FoW6f0JIdkSe"
      },
      "source": [
        "**リスト** : 複数のデータを**並べて**、**管理**し効率的に扱う  \n",
        "Pythonのリストには数値や文字列だけでなくPythonで扱うデータならなんでも入れることができる"
      ]
    },
    {
      "cell_type": "markdown",
      "metadata": {
        "id": "7oZvMNv5xK6C"
      },
      "source": [
        "## リストの定義\n",
        "`[要素0, 要素1, 要素2, 要素3]`"
      ]
    },
    {
      "cell_type": "code",
      "metadata": {
        "id": "KPjclEhX0oUU",
        "outputId": "b172d2ea-b1f2-4f93-f180-d33ab2c83273",
        "colab": {
          "base_uri": "https://localhost:8080/",
          "height": 284
        }
      },
      "source": [
        "# 温度のリスト\n",
        "temps = [15.1, 15.4, 15.2, 15.6, 16.8, 17.9, 17.1]\n",
        "\n",
        "# 可視化\n",
        "%matplotlib inline\n",
        "import matplotlib.pyplot as plt\n",
        "plt.plot(temps)"
      ],
      "execution_count": null,
      "outputs": [
        {
          "output_type": "execute_result",
          "data": {
            "text/plain": [
              "[<matplotlib.lines.Line2D at 0x7f2f27212ef0>]"
            ]
          },
          "metadata": {
            "tags": []
          },
          "execution_count": 14
        },
        {
          "output_type": "display_data",
          "data": {
            "image/png": "[encoded data removed]",
            "text/plain": [
              "<Figure size 432x288 with 1 Axes>"
            ]
          },
          "metadata": {
            "tags": [],
            "needs_background": "light"
          }
        }
      ]
    },
    {
      "cell_type": "markdown",
      "metadata": {
        "id": "oVkf1WKSQ8E0"
      },
      "source": [
        "## インデックスの指定\n",
        "リストにはインデックスと呼ばれる番号がついています。  \n",
        "番号は０から始まります。\n",
        "\n",
        "|    |    |    |    |    |    |    |    |\n",
        "|:---:|:---: |:---: |:---: |:---: |:---: |:---: |:---: |\n",
        "|list|15.1|15.4|15.2|15.6|16.8|17.9|17.1|\n",
        "|index|0|1|2|3|4|5|6|\n"
      ]
    },
    {
      "cell_type": "markdown",
      "metadata": {
        "id": "X9pp-3msi3RF"
      },
      "source": [
        "### リストの要素を取得する\n",
        "リストに入っている0番めの要素を取り出す場合は index 0 を指定します。"
      ]
    },
    {
      "cell_type": "code",
      "metadata": {
        "id": "boRt8woii74U"
      },
      "source": [
        "temps_0 = temps[0]"
      ],
      "execution_count": null,
      "outputs": []
    },
    {
      "cell_type": "markdown",
      "metadata": {
        "id": "voEve9Z7kmxw"
      },
      "source": [
        "### リストの連結\n",
        "リストは足し算することができます。  "
      ]
    },
    {
      "cell_type": "code",
      "metadata": {
        "id": "Uj00-KZ3klOn"
      },
      "source": [
        "temps_new = [13.6, 13.5, 12.6, 14.5, 14.8]\n",
        "temps_2 = temps_new + temps"
      ],
      "execution_count": null,
      "outputs": []
    },
    {
      "cell_type": "code",
      "metadata": {
        "id": "Qof3aVlYjk1C",
        "outputId": "51168ee6-c29b-4d68-f3bf-ed0f1d825d14",
        "colab": {
          "base_uri": "https://localhost:8080/",
          "height": 282
        }
      },
      "source": [
        "plt.plot(temps_2)\n"
      ],
      "execution_count": null,
      "outputs": [
        {
          "output_type": "execute_result",
          "data": {
            "text/plain": [
              "[<matplotlib.lines.Line2D at 0x7f2f26e482b0>]"
            ]
          },
          "metadata": {
            "tags": []
          },
          "execution_count": 21
        },
        {
          "output_type": "display_data",
          "data": {
            "image/png": "[encoded data removed]",
            "text/plain": [
              "<Figure size 432x288 with 1 Axes>"
            ]
          },
          "metadata": {
            "tags": [],
            "needs_background": "light"
          }
        }
      ]
    },
    {
      "cell_type": "markdown",
      "metadata": {
        "id": "lHsZajQPlHAV"
      },
      "source": [
        "### 要素の置き換え・削除"
      ]
    },
    {
      "cell_type": "code",
      "metadata": {
        "id": "x50bj45zlikP",
        "outputId": "42f53e7c-d488-49f1-880c-edec81ffbe7b",
        "colab": {
          "base_uri": "https://localhost:8080/",
          "height": 34
        }
      },
      "source": [
        "# フルーツの名前のリストの生成\n",
        "fruits = ['りんご', 'みかん', 'ぶどう', 'もも', 'なし', ]\n",
        "fruits"
      ],
      "execution_count": null,
      "outputs": [
        {
          "output_type": "execute_result",
          "data": {
            "text/plain": [
              "['りんご', 'みかん', 'ぶどう', 'もも', 'なし']"
            ]
          },
          "metadata": {
            "tags": []
          },
          "execution_count": 22
        }
      ]
    },
    {
      "cell_type": "code",
      "metadata": {
        "id": "i10n8ysKmQWz"
      },
      "source": [
        "# 3番目の要素を置き換える\n",
        "fruits[3] = 'マスカット'\n",
        "# index を指定して再代入することで要素を置き換えることができます。"
      ],
      "execution_count": null,
      "outputs": []
    },
    {
      "cell_type": "code",
      "metadata": {
        "id": "eDPLgh0qmv4Z",
        "outputId": "cd0f683e-27b1-43fe-e948-c9a12a3277ba",
        "colab": {
          "base_uri": "https://localhost:8080/",
          "height": 34
        }
      },
      "source": [
        "# 0番目の要素を削除する\n",
        "# del文を使うことで要素を削除することができます。\n",
        "\n",
        "del fruits[0]\n",
        "fruits"
      ],
      "execution_count": null,
      "outputs": [
        {
          "output_type": "execute_result",
          "data": {
            "text/plain": [
              "['みかん', 'ぶどう', 'マスカット', 'なし']"
            ]
          },
          "metadata": {
            "tags": []
          },
          "execution_count": 24
        }
      ]
    },
    {
      "cell_type": "markdown",
      "metadata": {
        "id": "37TVZB_hnT7t"
      },
      "source": [
        "### スライスを使用して複数の要素を取り出す\n",
        "リストにはスライスすることで、連続した複数の要素を指定することができます。\n",
        "\n",
        "`リスト名[最初のインデックス:最後のインデックス]`"
      ]
    },
    {
      "cell_type": "code",
      "metadata": {
        "id": "FKFSJCQ8oFDl",
        "outputId": "027d1fa1-9b9b-4dd4-8379-de4118dcbf9c",
        "colab": {
          "base_uri": "https://localhost:8080/",
          "height": 34
        }
      },
      "source": [
        "fruits[1:3]"
      ],
      "execution_count": null,
      "outputs": [
        {
          "output_type": "execute_result",
          "data": {
            "text/plain": [
              "['ぶどう', 'マスカット']"
            ]
          },
          "metadata": {
            "tags": []
          },
          "execution_count": 28
        }
      ]
    },
    {
      "cell_type": "code",
      "metadata": {
        "id": "CNchhTCIoXOd",
        "outputId": "76b9987c-ef65-4ead-dfce-02265383b6e7",
        "colab": {
          "base_uri": "https://localhost:8080/",
          "height": 34
        }
      },
      "source": [
        "fruits[:3]"
      ],
      "execution_count": null,
      "outputs": [
        {
          "output_type": "execute_result",
          "data": {
            "text/plain": [
              "['みかん', 'ぶどう', 'マスカット']"
            ]
          },
          "metadata": {
            "tags": []
          },
          "execution_count": 27
        }
      ]
    },
    {
      "cell_type": "code",
      "metadata": {
        "id": "UqzodKhoobpD",
        "outputId": "2e875723-0c87-4a52-9efe-91f418b8a9e3",
        "colab": {
          "base_uri": "https://localhost:8080/",
          "height": 34
        }
      },
      "source": [
        "fruits[1:]"
      ],
      "execution_count": null,
      "outputs": [
        {
          "output_type": "execute_result",
          "data": {
            "text/plain": [
              "['ぶどう', 'マスカット', 'なし']"
            ]
          },
          "metadata": {
            "tags": []
          },
          "execution_count": 29
        }
      ]
    },
    {
      "cell_type": "markdown",
      "metadata": {
        "id": "gep4ZgzQoyNN"
      },
      "source": [
        "# 5 for文\n",
        "**シーケンス**：リストのように複数の要素を持つデータ型  \n",
        "\n",
        "for文は **処理を繰り返す** ものです。  \n",
        "シーケンスの中を処理するときに使います。\n",
        "\n",
        "\n",
        "```\n",
        "for 繰り返し変数 in シーケンス:\n",
        "    [   ループ内の実行するブロック    ]\n",
        "```\n"
      ]
    },
    {
      "cell_type": "code",
      "metadata": {
        "id": "KnlD9AKJonFV",
        "outputId": "40cffa02-e1eb-4429-e24f-82f87cd444df",
        "colab": {
          "base_uri": "https://localhost:8080/",
          "height": 102
        }
      },
      "source": [
        "# for文の使用例 1\n",
        "fruits = ['りんご', 'みかん', 'ぶどう', 'もも', 'なし', ]\n",
        "for fruit in fruits:\n",
        "    print(fruit)\n"
      ],
      "execution_count": null,
      "outputs": [
        {
          "output_type": "stream",
          "text": [
            "りんご\n",
            "みかん\n",
            "ぶどう\n",
            "もも\n",
            "なし\n"
          ],
          "name": "stdout"
        }
      ]
    },
    {
      "cell_type": "markdown",
      "metadata": {
        "id": "R86K1XfUqv_r"
      },
      "source": [
        "1~10 を次々に足し算していくfor文"
      ]
    },
    {
      "cell_type": "code",
      "metadata": {
        "id": "t7pD_EDVgJmH",
        "outputId": "34d26a10-a018-49d5-cfc7-e4808db6eb90",
        "colab": {
          "base_uri": "https://localhost:8080/",
          "height": 187
        }
      },
      "source": [
        "nums = [1,2,3,4,5,6,7,8,9,10]\n",
        "num_sum = 0\n",
        "for i in nums:\n",
        "    num_sum = num_sum + i\n",
        "\n",
        "    print(num_sum)\n",
        "    "
      ],
      "execution_count": null,
      "outputs": [
        {
          "output_type": "stream",
          "text": [
            "1\n",
            "3\n",
            "6\n",
            "10\n",
            "15\n",
            "21\n",
            "28\n",
            "36\n",
            "45\n",
            "55\n"
          ],
          "name": "stdout"
        }
      ]
    },
    {
      "cell_type": "markdown",
      "metadata": {
        "id": "wga9HAIUrrYv"
      },
      "source": [
        "# if文\n",
        "「もし～ならば」の条件分岐を実現する文法です。\n",
        "\n",
        "```\n",
        "if 条件式:\n",
        "    [  処理内容  ]\n",
        "elif 条件式:\n",
        "    [  処理内容  ]\n",
        "else:\n",
        "    [  処理内容  ]\n",
        "```\n",
        "\n",
        "**True** or **False** で条件を分岐します。  \n",
        "\n",
        "条件式には比較演算子や論理演算子を使います。\n",
        "\n",
        "||||\n",
        "|---|---|---|\n",
        "|比較演算子|<|小さい|\n",
        "||>|大きい|\n",
        "||<=|以上|\n",
        "||>=|以下|\n",
        "||==|等しい|\n",
        "||!=|等しくない|\n",
        "|論理演算し|and|両者を満たす|\n",
        "||or|どちらか片方を満たす|\n",
        "||not|満たさない|\n"
      ]
    },
    {
      "cell_type": "code",
      "metadata": {
        "id": "ZtW2w6OCu1tT",
        "outputId": "38b5ec36-2498-4391-9544-f145b3f5c522",
        "colab": {
          "base_uri": "https://localhost:8080/",
          "height": 51
        }
      },
      "source": [
        "# 比較演算子の紹介\n",
        "\n",
        "a = 3\n",
        "b = 4\n",
        "\n",
        "c = a < 3 # 比較（小さいかどうか）\n",
        "print(c)\n",
        "\n",
        "d = 3 < 4 and 4 < 5 # 論理和\n",
        "print(d)"
      ],
      "execution_count": null,
      "outputs": [
        {
          "output_type": "stream",
          "text": [
            "False\n",
            "True\n"
          ],
          "name": "stdout"
        }
      ]
    },
    {
      "cell_type": "code",
      "metadata": {
        "id": "2QVg78qPrMLl",
        "outputId": "0947eee6-1d5e-4cf5-fb7a-95d4d93ac630",
        "colab": {
          "base_uri": "https://localhost:8080/",
          "height": 34
        }
      },
      "source": [
        "# for文 例 1　あいさつ\n",
        "\n",
        "# 朝だったら「おはよう」\n",
        "# 昼だったら「こんにちは」\n",
        "# 夕方だったら「こんばんは」\n",
        "# それ以外なら「おやすみ」\n",
        "\n",
        "time = 7\n",
        "\n",
        "if time < 12:\n",
        "    print('おはよう')\n",
        "elif time < 17:\n",
        "    print('こんにちは')\n",
        "elif time < 21:\n",
        "    print('こんばんは')\n",
        "else:\n",
        "    print('おやすみ')\n",
        "\n"
      ],
      "execution_count": null,
      "outputs": [
        {
          "output_type": "stream",
          "text": [
            "おはよう\n"
          ],
          "name": "stdout"
        }
      ]
    },
    {
      "cell_type": "markdown",
      "metadata": {
        "id": "WXbqLd35wkn1"
      },
      "source": [
        "# 6 関数\n",
        "\n",
        "関数を用いることで、複数行の処理をまとめることができます。  \n",
        "関数はdefのあとに関数名を記述し、()の中に引数を記述します。  \n",
        "returnのあとの値が返り値になります。  "
      ]
    },
    {
      "cell_type": "code",
      "metadata": {
        "id": "Q0du_7eRuv4o",
        "outputId": "35519d11-1617-4c6f-8f7a-e9d86dad59f2",
        "colab": {
          "base_uri": "https://localhost:8080/",
          "height": 34
        }
      },
      "source": [
        "def add(a, b):          # 関数の定義\n",
        "    c = a + b\n",
        "    return c\n",
        "\n",
        "print(add(3, 4))        # 関数の実行"
      ],
      "execution_count": null,
      "outputs": [
        {
          "output_type": "stream",
          "text": [
            "7\n"
          ],
          "name": "stdout"
        }
      ]
    },
    {
      "cell_type": "markdown",
      "metadata": {
        "id": "5gf1fe22w9ag"
      },
      "source": [
        "引数にはデフォルト値を設定できます。  \n",
        "デフォルト値を設定すると、関数を呼び出す際にその引数を省略できます。  \n",
        "以下の例では、第2引数にデフォルト値が設定されています。  "
      ]
    },
    {
      "cell_type": "code",
      "metadata": {
        "id": "mDCR1F0Zw7Ii",
        "outputId": "4d6a9da2-0f4e-4199-dbe3-9f2e93bb1bca",
        "colab": {
          "base_uri": "https://localhost:8080/",
          "height": 34
        }
      },
      "source": [
        "def add(a, b=4):        # 第2引数にデフォルト値を設定\n",
        "    c = a + b\n",
        "    return c\n",
        "\n",
        "print(add(3))           # 第2引数は指定しない"
      ],
      "execution_count": null,
      "outputs": [
        {
          "output_type": "stream",
          "text": [
            "7\n"
          ],
          "name": "stdout"
        }
      ]
    },
    {
      "cell_type": "markdown",
      "metadata": {
        "id": "Xx1JFK8SxD0v"
      },
      "source": [
        "また、*（アスタリスク）を付けたタプルを用いて、複数の引数を一度に渡すことができます。\n"
      ]
    },
    {
      "cell_type": "code",
      "metadata": {
        "id": "JpulRFdLxCQH",
        "outputId": "61dc5fed-4de1-47f9-fddb-ccbb27c78dbf",
        "colab": {
          "base_uri": "https://localhost:8080/",
          "height": 34
        }
      },
      "source": [
        "def add(a, b ,c):\n",
        "    d = a + b + c\n",
        "    print(d)\n",
        "\n",
        "e = (1, 2, 3)\n",
        "add(*e)           # 複数の引数を一度に渡す"
      ],
      "execution_count": null,
      "outputs": [
        {
          "output_type": "stream",
          "text": [
            "6\n"
          ],
          "name": "stdout"
        }
      ]
    },
    {
      "cell_type": "markdown",
      "metadata": {
        "id": "hrysgyzCBIqI"
      },
      "source": [
        "# 7 Class"
      ]
    },
    {
      "cell_type": "markdown",
      "metadata": {
        "id": "tV_m69ErInId"
      },
      "source": [
        "重要なキーワード\n",
        "- 属性 : データを保持\n",
        "- メソッド : クラスの中での処理・命令\n",
        "- インスタンス ：クラスを実体化させること\n",
        "\n",
        "classを使用すると...  \n",
        "=> 関数を定義するときのように複数の処理や値をまとめておくことができます。  \n",
        "\n",
        "<br>\n",
        "\n",
        "classからは「インスタンス」というものが作成でき、インスタンスにはデータを保持させておくことができたり（属性）、関数のように処理をまとめておくことができたり（メソッド）します。  \n",
        "\n",
        "<br>\n",
        "\n",
        "このように、「1つのものに情報や処理をひも付けて管理できる」のがclassです。  \n",
        "classのように『データ』と『処理』が1つのものになっているものを**オブジェクト**といいます。 \n",
        "\n",
        "オブジェクトのイメージ  \n",
        "![image.png](data:image/png;base64,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)\n",
        "\n",
        "<br>\n",
        "\n",
        "[例]  \n",
        "class 「人間」　　\n",
        "\n",
        "人間classをひな形として1人1人の個人が作られます。\n",
        "この人間インスタンスにはそれぞれ共通する\n",
        "・属性：名前、年齢、性別、国籍\n",
        "・メソッド：食べる、歩く、話す\n",
        "などの項目が設定されている、というイメージです。\n",
        "\n",
        "classを作成しておくことで、似たようなインスタンスを自由に生み出すことができます。  \n",
        "そのため、classはインスタンスを作成するための「ひな形」「設計図」どとも言われます。\n"
      ]
    },
    {
      "cell_type": "code",
      "metadata": {
        "id": "RWkdENMhBGpV"
      },
      "source": [
        "class Human():\n",
        "    def __init__(self, name, age, sex, nationality): # 初期化メソッド。インスタンス化した時に属性を定義する\n",
        "        self.name = name\n",
        "        self.age = age\n",
        "        self.sex = sex\n",
        "        self.nationality = nationality\n",
        "    \n",
        "    def walk(self): \n",
        "        return print(f'歩きます')\n",
        "    def eat(self):\n",
        "        return print(f'食べます')\n",
        "    def speak(self):\n",
        "        return print(f'話します')\n",
        "    "
      ],
      "execution_count": 4,
      "outputs": []
    },
    {
      "cell_type": "code",
      "metadata": {
        "id": "J2xuJClaxJHc"
      },
      "source": [
        "class HighSchoolStudent(Human):\n",
        "    def __init__(self, name, age, sex, nationality, school_name, school_grade, school_class, club):\n",
        "        super(HighSchoolStudent, self).__init__(name, age, sex, nationality)\n",
        "        self.school_name = school_name\n",
        "        self.school_grade = school_grade\n",
        "        self.school_class = school_class\n",
        "        self.club = club\n",
        "    def learn(self):\n",
        "        return print('勉強しています')\n",
        "    "
      ],
      "execution_count": 17,
      "outputs": []
    },
    {
      "cell_type": "code",
      "metadata": {
        "id": "eyrAYJfp4m1D"
      },
      "source": [
        ""
      ],
      "execution_count": null,
      "outputs": []
    }
  ]
}