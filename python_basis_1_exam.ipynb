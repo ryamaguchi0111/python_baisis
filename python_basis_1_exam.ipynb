{
  "nbformat": 4,
  "nbformat_minor": 0,
  "metadata": {
    "colab": {
      "name": "python_basis_1_exam.ipynb",
      "provenance": [],
      "toc_visible": true,
      "authorship_tag": "ABX9TyMNknFeIZNi5y2SrMp6Q35V",
      "include_colab_link": true
    },
    "kernelspec": {
      "name": "python3",
      "display_name": "Python 3"
    }
  },
  "cells": [
    {
      "cell_type": "markdown",
      "metadata": {
        "id": "view-in-github",
        "colab_type": "text"
      },
      "source": [
        "<a href=\"https://colab.research.google.com/github/ryamaguchi0111/python_baisis/blob/main/python_basis_1_exam.ipynb\" target=\"_parent\"><img src=\"https://colab.research.google.com/assets/colab-badge.svg\" alt=\"Open In Colab\"/></a>"
      ]
    },
    {
      "cell_type": "markdown",
      "metadata": {
        "id": "Ym63YKniVqbI"
      },
      "source": [
        "# Pythonの練習問題"
      ]
    },
    {
      "cell_type": "markdown",
      "metadata": {
        "id": "-ADS6mimWOcg"
      },
      "source": [
        "## 1. 挨拶を行う関数 Hello() を作ってみよう\n",
        "- 引数には name を入れる\n",
        "- 引数 name を受け取り 'Hello {name}' のように挨拶を返す\n",
        "\n"
      ]
    },
    {
      "cell_type": "code",
      "metadata": {
        "id": "J2xuJClaxJHc"
      },
      "source": [
        "# 関数の例\n",
        "def Hello(name):\n",
        "    # 処理内容を書く\n",
        "\n",
        "    return # 処理した内容を返す"
      ],
      "execution_count": 1,
      "outputs": []
    },
    {
      "cell_type": "markdown",
      "metadata": {
        "id": "oK0wnhslXOlL"
      },
      "source": [
        "## 2. 入力した数字が奇数or偶数かを当てる関数 judge_odd_or_even() を作ってみよう\n",
        "- 引数には number を入れる\n",
        "- 返り値として以下のように返します。\n",
        " - 偶数の場合:「偶数が選択されました」\n",
        " - 奇数の場合:「奇数が選択されました」"
      ]
    },
    {
      "cell_type": "code",
      "metadata": {
        "id": "-7oVAz6YXLNq"
      },
      "source": [
        "def judge_odd_or_even(number):\n",
        "    # 処理内容\n",
        "    return \n"
      ],
      "execution_count": 3,
      "outputs": []
    },
    {
      "cell_type": "markdown",
      "metadata": {
        "id": "aoSiauOjmxfO"
      },
      "source": [
        ""
      ]
    },
    {
      "cell_type": "code",
      "metadata": {
        "id": "dYpFKCkTmw_q"
      },
      "source": [
        ""
      ],
      "execution_count": null,
      "outputs": []
    },
    {
      "cell_type": "code",
      "metadata": {
        "id": "84kQPz8Ul4yv"
      },
      "source": [
        ""
      ],
      "execution_count": null,
      "outputs": []
    },
    {
      "cell_type": "code",
      "metadata": {
        "id": "sf-dLs5Fl10v"
      },
      "source": [
        ""
      ],
      "execution_count": null,
      "outputs": []
    }
  ]
}